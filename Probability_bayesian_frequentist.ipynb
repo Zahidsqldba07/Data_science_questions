{
 "cells": [
  {
   "cell_type": "code",
   "execution_count": null,
   "metadata": {
    "collapsed": true
   },
   "outputs": [],
   "source": [
    "Five numbers are given: (5, 10, 15, 5, 15). Now, what would be the sum of deviations of individual data points \n",
    "from their mean?\n",
    "\n",
    "The sum of deviations of individual data points from their mean is always zero."
   ]
  },
  {
   "cell_type": "code",
   "execution_count": null,
   "metadata": {
    "collapsed": true
   },
   "outputs": [],
   "source": [
    "Which measures are used to analyze the central tendency of data?\n",
    "\n",
    "Mean, Median, and Mode"
   ]
  },
  {
   "cell_type": "code",
   "execution_count": null,
   "metadata": {
    "collapsed": true
   },
   "outputs": [],
   "source": [
    "A test is administered annually. The test has a mean score of 150 and a standard deviation of 20.\n",
    "If Ravi’s z-score is 1.50, what was his score on the test?\n",
    "\n",
    "X= μ+Zσ where μ is the mean,  σ is the standard deviation\n",
    "\n",
    "Answer: (1.50*20)+150 =180"
   ]
  },
  {
   "cell_type": "code",
   "execution_count": null,
   "metadata": {
    "collapsed": true
   },
   "outputs": [],
   "source": [
    "Which of the following measures of central tendency will always change if a single value in the data changes?\n",
    "\n",
    "The mean of the dataset would always change if we change any value of the data set. Since we are summing up all the\n",
    "values together to get it, every value of the data set contributes to its value.\n",
    "Median and mode may or may not change with altering a single value in the dataset.\n",
    "\n"
   ]
  },
  {
   "cell_type": "code",
   "execution_count": null,
   "metadata": {
    "collapsed": true
   },
   "outputs": [],
   "source": [
    "Which of the following measures of central tendency will always change if a single value in the data changes?\n",
    "Mean changes always. The median and mode may or may not change."
   ]
  },
  {
   "cell_type": "code",
   "execution_count": null,
   "metadata": {
    "collapsed": true
   },
   "outputs": [],
   "source": [
    "Bayesian Vs. Frequentist\n",
    "\n",
    "Posterior approx.= prior * likelihood\n",
    "\n",
    "P(H|E) = (P(H) * P(E|H))/P(E)\n",
    "\n",
    "In most experiments, the prior probabilities on hypotheses are not known.\n",
    "In this case, our recourse is the art of statistical inference: we either make up a prior (Bayesian) or\n",
    "do our best using only the likelihood (frequentist).\n",
    "\n",
    "The frequentist school only uses conditional distributions of data given specific hypotheses.\n",
    "The presumption is that some hypothesis (parameter specifying the conditional distribution of the data) is true and\n",
    "that the observed data is sampled from that distribution.\n",
    "In particular, the frequentist approach does not depend on a subjective prior that may vary from one\n",
    "investigator to another.\n",
    "\n",
    "Bayesian inference\n",
    "• uses probabilities for both hypotheses and data.\n",
    "• depends on the prior and likelihood of observed data.\n",
    "• requires one to know or construct a ‘subjective prior’.\n",
    "• dominated statistical practice before the 20th century.\n",
    "• may be computationally intensive due to integration over many parameters.\n",
    "\n",
    "Frequentist inference\n",
    "• never uses or gives the probability of a hypothesis (no prior or posterior).\n",
    "• depends on the likelihood P (D | H) for both observed and unobserved data. • does not require a prior.\n",
    "• dominated statistical practice during the 20th century.\n",
    "• tends to be less computationally intensive.\n",
    "\n",
    "Frequentist measures like p-values and confidence intervals continue to dominate research, especially in the \n",
    "life sciences. \n",
    "\n",
    "Critique of Bayesian inference\n",
    "Prior is subjective to experimenters and therefore differs thereby affecting outcomes\n",
    "In reality the hypothesis entails discrete values: a hypothesis is either true or false, regardless of whether one\n",
    "knows which is the case. A coin is either fair or unfair; treatment 1 is either better or worse than treatment 2;\n",
    "the sun will or will not come up tomorrow. Therefore there are objections to assigning probabilities to hypotheses,\n",
    "as hypotheses do not constitute outcomes of repeatable experiments in which one can measure the long-term frequency.\n",
    "\n",
    "Defense of Bayesian inference\n",
    "The probability of hypotheses is exactly what we need to make decisions. When the doctor tells me a screening test\n",
    "came back positive I want to know what is the probability this means I’m sick. That is, I want to know the probability\n",
    "of the hypothesis “I am sick”.\n",
    "\n"
   ]
  },
  {
   "cell_type": "code",
   "execution_count": null,
   "metadata": {
    "collapsed": true
   },
   "outputs": [],
   "source": [
    "We run a two-sample t-test for equal means, with α = 0.05, and obtain a p-value of 0.04.\n",
    "What are the odds that the two samples are drawn from distributions with the same mean? (a) 19/1 (b) 1/19 (c) 1/20 (d) 1/24 (e) unknown\n",
    "answer: (e) unknown. \n",
    "Frequentist methods only give probabilities of statistics conditioned on hypotheses.\n",
    "They do not give probabilities of hypotheses."
   ]
  },
  {
   "cell_type": "code",
   "execution_count": null,
   "metadata": {
    "collapsed": true
   },
   "outputs": [],
   "source": [
    "What is p-value? (refer the answer above for Frequentist methods)\n",
    "We cleverly allow some space for randomness to happen and we measure it, based on the assumption that the null hypothesis\n",
    "is true, in terms of a probability value and that is called p-value. \n",
    "\n",
    "We need to quantify the random space and therefore we conditioned the value on alpha and that in turn on null hypothesis.\n",
    "Therefore if p-value <= alpha we reject null hypothesis. Otherwise we fail to reject the null hypothesis.\n",
    "We reject the null hypothesis if p-value is very low. The conventional threshold for rejecting the null hypothesis is 5%.\n",
    "Frequentist methods only give probabilities of statistics conditioned on hypotheses.\n",
    "They do not give probabilities of hypotheses.\n",
    "\n",
    "Say the significance level is 5% Then p-value can be interpreted as:\n",
    "if the null hypothesis is true then 5% of the time it will be rejected due to randomness"
   ]
  }
 ],
 "metadata": {
  "kernelspec": {
   "display_name": "Python [conda root]",
   "language": "python",
   "name": "conda-root-py"
  },
  "language_info": {
   "codemirror_mode": {
    "name": "ipython",
    "version": 3
   },
   "file_extension": ".py",
   "mimetype": "text/x-python",
   "name": "python",
   "nbconvert_exporter": "python",
   "pygments_lexer": "ipython3",
   "version": "3.5.6"
  }
 },
 "nbformat": 4,
 "nbformat_minor": 2
}
