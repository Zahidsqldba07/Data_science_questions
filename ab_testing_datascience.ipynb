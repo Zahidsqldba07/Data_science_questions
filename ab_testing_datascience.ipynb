{
 "cells": [
  {
   "cell_type": "code",
   "execution_count": 1,
   "metadata": {
    "collapsed": true
   },
   "outputs": [],
   "source": [
    "\n",
    "\n",
    "import numpy as np\n",
    "\n"
   ]
  },
  {
   "cell_type": "code",
   "execution_count": null,
   "metadata": {
    "collapsed": true
   },
   "outputs": [],
   "source": [
    "You are given the following data of student marks in a 5-by-5 matrix. \n",
    "\n",
    "|  id | Assignment 1 score | Assignment 2 score | Total score | Score percentage |     \n",
    "| --- | ------------------ | ------------------ | ----------- | ---------------- |     \n",
    "|   1 |                 12 |                 19 |          31 |             0.62 |     \n",
    "|   2 |                 20 |                 21 |          41 |             0.82 |     \n",
    "|   3 |                 15 |                 22 |          37 |             0.74 |     \n",
    "|   4 |                 14 |                  9 |          23 |             0.46 |     \n",
    "|   5 |                 25 |                 25 |          50 |             1.00 | \n",
    "\n",
    " a. Use the column names (not the data values) to make a guess of the rank of the matrix. Explain your guess.   \n",
    "Total score = Assignment 1 score + Assignment 2 \n",
    "score  percent = Total score / 100 \n",
    "You can remove the last two columns without losing any data. The rank of the matrix is 3 (since there are three columns remaining).\n"
   ]
  },
  {
   "cell_type": "code",
   "execution_count": null,
   "metadata": {
    "collapsed": true
   },
   "outputs": [],
   "source": [
    "b. Use one of the analytical techniques or algorithms we have learned to verify your guess. For your convenience, here's the data in csv format: \n",
    "1,12,19,31,0.62         \n",
    "2,20,21,41,0.82         \n",
    "3,15,22,37,0.74         \n",
    "4,14,9,23,0.46         \n",
    "5,25,25,50,1.00\n",
    "\n",
    "a = np.genfromtxt('filename.csv', delimiter=',') \n",
    "u, s, v = np.linalg.svd(a)\n",
    "Look at the s list. It should have length 5 and the last two should be essential zero. There are 3 remaining, thus the rank of the matrix is 3.\n"
   ]
  },
  {
   "cell_type": "code",
   "execution_count": 2,
   "metadata": {
    "collapsed": true
   },
   "outputs": [],
   "source": [
    "a = np.genfromtxt('/Users/chidam/Desktop/svd_csvfile.csv', delimiter=',')"
   ]
  },
  {
   "cell_type": "code",
   "execution_count": 3,
   "metadata": {
    "collapsed": true
   },
   "outputs": [],
   "source": [
    "u, s, v = np.linalg.svd(a)"
   ]
  },
  {
   "cell_type": "code",
   "execution_count": 10,
   "metadata": {},
   "outputs": [
    {
     "data": {
      "text/plain": [
       "array([1.03052540e+02, 7.47566048e+00, 2.02593956e+00, 1.41282085e-15,\n",
       "       3.43356444e-16])"
      ]
     },
     "execution_count": 10,
     "metadata": {},
     "output_type": "execute_result"
    }
   ],
   "source": [
    "s"
   ]
  },
  {
   "cell_type": "code",
   "execution_count": 5,
   "metadata": {},
   "outputs": [
    {
     "data": {
      "text/plain": [
       "5"
      ]
     },
     "execution_count": 5,
     "metadata": {},
     "output_type": "execute_result"
    }
   ],
   "source": [
    "len(s)"
   ]
  },
  {
   "cell_type": "code",
   "execution_count": 6,
   "metadata": {},
   "outputs": [
    {
     "data": {
      "text/plain": [
       "array([[-0.36970006, -0.53233823,  0.10964768, -0.11834758, -0.7442507 ],\n",
       "       [-0.48752232,  0.06445049,  0.75523635, -0.25778256,  0.34833078],\n",
       "       [-0.44209637, -0.4360889 , -0.55913225, -0.25033332,  0.48895974],\n",
       "       [-0.27405986,  0.65823946, -0.29414729, -0.56770978, -0.28774119],\n",
       "       [-0.5958908 ,  0.29834447, -0.13580849,  0.73115035, -0.05366507]])"
      ]
     },
     "execution_count": 6,
     "metadata": {},
     "output_type": "execute_result"
    }
   ],
   "source": [
    "u"
   ]
  },
  {
   "cell_type": "code",
   "execution_count": 7,
   "metadata": {},
   "outputs": [
    {
     "data": {
      "text/plain": [
       "5"
      ]
     },
     "execution_count": 7,
     "metadata": {},
     "output_type": "execute_result"
    }
   ],
   "source": [
    "len(u)"
   ]
  },
  {
   "cell_type": "code",
   "execution_count": 8,
   "metadata": {},
   "outputs": [
    {
     "data": {
      "text/plain": [
       "array([[-6.54688107e-02, -3.83808110e-01, -4.30384332e-01,\n",
       "        -8.14192442e-01, -1.62838488e-02],\n",
       "       [ 3.22777669e-01,  6.73329379e-01, -6.65112455e-01,\n",
       "         8.21692388e-03,  1.64338478e-04],\n",
       "       [-9.44207822e-01,  2.56790023e-01, -1.97527169e-01,\n",
       "         5.92628541e-02,  1.18525708e-03],\n",
       "       [ 0.00000000e+00,  5.77373636e-01,  5.77373636e-01,\n",
       "        -5.76998112e-01, -1.87762189e-02],\n",
       "       [-0.00000000e+00, -4.17729779e-03, -4.17729779e-03,\n",
       "         2.41711054e-02, -9.99690381e-01]])"
      ]
     },
     "execution_count": 8,
     "metadata": {},
     "output_type": "execute_result"
    }
   ],
   "source": [
    "v"
   ]
  },
  {
   "cell_type": "code",
   "execution_count": 9,
   "metadata": {},
   "outputs": [
    {
     "data": {
      "text/plain": [
       "5"
      ]
     },
     "execution_count": 9,
     "metadata": {},
     "output_type": "execute_result"
    }
   ],
   "source": [
    "len(v)"
   ]
  },
  {
   "cell_type": "code",
   "execution_count": null,
   "metadata": {
    "collapsed": true
   },
   "outputs": [],
   "source": [
    "You are testing a new version of your website. You randomly partition your users into 2 groups. Group A continues to get the old version of the website. Group B gets the new version of the website. You would like to maximize the number of registrations. These are the results you get:      \n",
    "| Group | Viewers | Registrations |     \n",
    "| ----- \t| ------- | ------------- |     \n",
    "|     A \t|     612 |           103 |     \n",
    "|     B \t|     595 |           144 |      \n",
    "Can we say with confidence that the new version of the website is better?\n"
   ]
  },
  {
   "cell_type": "code",
   "execution_count": 11,
   "metadata": {},
   "outputs": [
    {
     "name": "stdout",
     "output_type": "stream",
     "text": [
      "p-value:0.0007525358465393692\n"
     ]
    }
   ],
   "source": [
    "Define the hypothesis:\n",
    "H0:that the new version is not better\n",
    "H1:the new version is better\n",
    "\n",
    "The contingency table is as follows:\n",
    "\n",
    "Group Registered Did not Register\n",
    "A          103      509\n",
    "B          144      451\n",
    "You can use scipy chi squared test:\n",
    "\n",
    "from scipy.stats import chi2_contingency\n",
    "chi2, p, dof, expected = chi2_contingency([[103, 509], [144, 451]], correction=False)\n",
    "print (\"p-value:{}\".format(p/2))\n",
    "\n",
    "\n"
   ]
  },
  {
   "cell_type": "code",
   "execution_count": null,
   "metadata": {
    "collapsed": true
   },
   "outputs": [],
   "source": [
    "The approx. p_value is 0.00075 which is way less than the critical value at 95% confidence level: alpha=0.05 to be considered significant\n",
    "therefore we reject H0\n",
    "The observed conversion rate for Group A is 103/612=16.8%. The observed conversion rate for Group B is 144/595=24.2%.\n",
    "\n",
    "We conclude that site B is superior.\n"
   ]
  }
 ],
 "metadata": {
  "kernelspec": {
   "display_name": "Python [conda root]",
   "language": "python",
   "name": "conda-root-py"
  },
  "language_info": {
   "codemirror_mode": {
    "name": "ipython",
    "version": 3
   },
   "file_extension": ".py",
   "mimetype": "text/x-python",
   "name": "python",
   "nbconvert_exporter": "python",
   "pygments_lexer": "ipython3",
   "version": "3.5.4"
  }
 },
 "nbformat": 4,
 "nbformat_minor": 2
}
