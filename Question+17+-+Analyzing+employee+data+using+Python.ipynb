{
 "cells": [
  {
   "cell_type": "code",
   "execution_count": null,
   "metadata": {
    "collapsed": true
   },
   "outputs": [],
   "source": [
    "Question-17\n",
    "Below is a snippet from a table that contains information about employees that work at Company XYZ: \n",
    "Column name\tData type\tExample value\tDescription\n",
    "employee_name\tstring\tCindy\tName of employee\n",
    "employee_id\tinteger\t1837204\tUnique id for each employee\n",
    "yrs_of_experience\tinteger\t14\ttotal working years of experience\n",
    "yrs_at_company\tinteger\t10\ttotal working years at Company XYZ\n",
    "compensation\tinteger\t100000\tdollar value of employee compensation\n",
    "career_track\tstring\ttechnical\tPotential values: technical, non-technical, executive\n",
    "\n",
    "Company XYZ Human Resource department is trying to understand compensation across the company\n",
    "and asked you to pull data to help them make a decision regarding employee compensation.\n",
    "\n",
    "Question: Can you pull the average, median, minimum, maximium, and standard deviations for salary across 5 year\n",
    "experience buckets at Company XYZ? (e.g. get the corresponding average, median, minimum, maximium, and standard deviations for expereience buckets 0-5, 5-10, 10-15, ect.)\n",
    "You can assume the data is imported into a dataframe named df.\n",
    "\n",
    "\n",
    "\n"
   ]
  },
  {
   "cell_type": "code",
   "execution_count": 2,
   "metadata": {},
   "outputs": [
    {
     "data": {
      "text/html": [
       "<div>\n",
       "<style>\n",
       "    .dataframe thead tr:only-child th {\n",
       "        text-align: right;\n",
       "    }\n",
       "\n",
       "    .dataframe thead th {\n",
       "        text-align: left;\n",
       "    }\n",
       "\n",
       "    .dataframe tbody tr th {\n",
       "        vertical-align: top;\n",
       "    }\n",
       "</style>\n",
       "<table border=\"1\" class=\"dataframe\">\n",
       "  <thead>\n",
       "    <tr style=\"text-align: right;\">\n",
       "      <th></th>\n",
       "      <th>emp_name</th>\n",
       "      <th>emp_id</th>\n",
       "      <th>yrs_experience</th>\n",
       "      <th>yrs_company</th>\n",
       "      <th>compensation</th>\n",
       "      <th>career_track</th>\n",
       "    </tr>\n",
       "  </thead>\n",
       "  <tbody>\n",
       "    <tr>\n",
       "      <th>0</th>\n",
       "      <td>Cindy</td>\n",
       "      <td>1837204</td>\n",
       "      <td>12</td>\n",
       "      <td>5</td>\n",
       "      <td>100000</td>\n",
       "      <td>technical</td>\n",
       "    </tr>\n",
       "    <tr>\n",
       "      <th>1</th>\n",
       "      <td>Wendy</td>\n",
       "      <td>1837205</td>\n",
       "      <td>16</td>\n",
       "      <td>6</td>\n",
       "      <td>323456</td>\n",
       "      <td>sales</td>\n",
       "    </tr>\n",
       "    <tr>\n",
       "      <th>2</th>\n",
       "      <td>Won</td>\n",
       "      <td>1837206</td>\n",
       "      <td>17</td>\n",
       "      <td>7</td>\n",
       "      <td>100002</td>\n",
       "      <td>engg</td>\n",
       "    </tr>\n",
       "    <tr>\n",
       "      <th>3</th>\n",
       "      <td>Peter</td>\n",
       "      <td>1837207</td>\n",
       "      <td>8</td>\n",
       "      <td>8</td>\n",
       "      <td>122345</td>\n",
       "      <td>marketing</td>\n",
       "    </tr>\n",
       "    <tr>\n",
       "      <th>4</th>\n",
       "      <td>Jack</td>\n",
       "      <td>1837208</td>\n",
       "      <td>19</td>\n",
       "      <td>9</td>\n",
       "      <td>100004</td>\n",
       "      <td>design</td>\n",
       "    </tr>\n",
       "  </tbody>\n",
       "</table>\n",
       "</div>"
      ],
      "text/plain": [
       "  emp_name   emp_id  yrs_experience  yrs_company  compensation career_track\n",
       "0    Cindy  1837204              12            5        100000    technical\n",
       "1    Wendy  1837205              16            6        323456        sales\n",
       "2      Won  1837206              17            7        100002         engg\n",
       "3    Peter  1837207               8            8        122345    marketing\n",
       "4     Jack  1837208              19            9        100004       design"
      ]
     },
     "execution_count": 2,
     "metadata": {},
     "output_type": "execute_result"
    }
   ],
   "source": [
    "import pandas as pd\n",
    "df=pd.read_csv('/Users/chidam/Desktop/emp_data.csv')\n",
    "df.head()"
   ]
  },
  {
   "cell_type": "code",
   "execution_count": 9,
   "metadata": {},
   "outputs": [
    {
     "data": {
      "text/plain": [
       "327525.8"
      ]
     },
     "execution_count": 9,
     "metadata": {},
     "output_type": "execute_result"
    }
   ],
   "source": [
    "Can you pull the average for salary across 5 year experience buckets at Company XYZ?\n",
    "#because the question asks for years of experience at the xompany XYZ I have considered the yrs_company column to filter\n",
    "#the appropriate data\n",
    "\n",
    "df.loc[df['yrs_company']==5, 'compensation'].mean()"
   ]
  },
  {
   "cell_type": "code",
   "execution_count": 22,
   "metadata": {
    "scrolled": true
   },
   "outputs": [
    {
     "data": {
      "text/plain": [
       "289040.0"
      ]
     },
     "execution_count": 22,
     "metadata": {},
     "output_type": "execute_result"
    }
   ],
   "source": [
    "Median for salary across 5 year experience buckets at Company XYZ?\n",
    "\n",
    "df.loc[df['yrs_company']==5, 'compensation'].median()"
   ]
  },
  {
   "cell_type": "code",
   "execution_count": 25,
   "metadata": {},
   "outputs": [
    {
     "data": {
      "text/plain": [
       "100000"
      ]
     },
     "execution_count": 25,
     "metadata": {},
     "output_type": "execute_result"
    }
   ],
   "source": [
    "Minimum value in the column - 5 year experience bucket\n",
    "df.loc[df['yrs_company']==5, 'compensation'].min()"
   ]
  },
  {
   "cell_type": "code",
   "execution_count": 26,
   "metadata": {},
   "outputs": [
    {
     "data": {
      "text/plain": [
       "567900"
      ]
     },
     "execution_count": 26,
     "metadata": {},
     "output_type": "execute_result"
    }
   ],
   "source": [
    "Maximum value in the column - 5 year experience bucket\n",
    "df.loc[df['yrs_company']==5, 'compensation'].max()"
   ]
  },
  {
   "cell_type": "code",
   "execution_count": 30,
   "metadata": {},
   "outputs": [
    {
     "data": {
      "text/plain": [
       "186061.94115992662"
      ]
     },
     "execution_count": 30,
     "metadata": {},
     "output_type": "execute_result"
    }
   ],
   "source": [
    "Standard Deviation of the column - in the 5-year experience bucket\n",
    "df.loc[df['yrs_company']==5, 'compensation'].std()"
   ]
  },
  {
   "cell_type": "code",
   "execution_count": 21,
   "metadata": {},
   "outputs": [
    {
     "data": {
      "text/plain": [
       "344639.1666666667"
      ]
     },
     "execution_count": 21,
     "metadata": {},
     "output_type": "execute_result"
    }
   ],
   "source": [
    "#Calculating average for expereience buckets 0-5. the same format can be applied to select other categories of experience buckets\n",
    "#do not forget the brackets around the column selections below - otherwise it will throw amgiguous value error\n",
    "\n",
    "df.loc[(df['yrs_company']>=1) & (df['yrs_company']<=5), 'compensation'].mean()"
   ]
  },
  {
   "cell_type": "code",
   "execution_count": 24,
   "metadata": {},
   "outputs": [
    {
     "data": {
      "text/plain": [
       "289036.5"
      ]
     },
     "execution_count": 24,
     "metadata": {},
     "output_type": "execute_result"
    }
   ],
   "source": [
    "#To find median salary across expereience buckets 0-5 at Company XYZ?\n",
    "\n",
    "df.loc[(df['yrs_company']>=1) & (df['yrs_company']<=5), 'compensation'].median()"
   ]
  },
  {
   "cell_type": "code",
   "execution_count": 28,
   "metadata": {},
   "outputs": [
    {
     "data": {
      "text/plain": [
       "100000"
      ]
     },
     "execution_count": 28,
     "metadata": {},
     "output_type": "execute_result"
    }
   ],
   "source": [
    "#Minimum value in the column 0 - 5 year experience bucket\n",
    "df.loc[(df['yrs_company']>=1) & (df['yrs_company']<=5), 'compensation'].min()"
   ]
  },
  {
   "cell_type": "code",
   "execution_count": 29,
   "metadata": {},
   "outputs": [
    {
     "data": {
      "text/plain": [
       "765123"
      ]
     },
     "execution_count": 29,
     "metadata": {},
     "output_type": "execute_result"
    }
   ],
   "source": [
    "#Maximum value in the column 0 - 5 year experience bucket\n",
    "df.loc[(df['yrs_company']>=1) & (df['yrs_company']<=5), 'compensation'].max()"
   ]
  },
  {
   "cell_type": "code",
   "execution_count": 31,
   "metadata": {},
   "outputs": [
    {
     "data": {
      "text/plain": [
       "188186.3769737734"
      ]
     },
     "execution_count": 31,
     "metadata": {},
     "output_type": "execute_result"
    }
   ],
   "source": [
    "Standard Deviation of the column - in the 0-5 year experience bucket\n",
    "df.loc[(df['yrs_company']>=1) & (df['yrs_company']<=5), 'compensation'].std()"
   ]
  }
 ],
 "metadata": {
  "kernelspec": {
   "display_name": "Python [conda root]",
   "language": "python",
   "name": "conda-root-py"
  },
  "language_info": {
   "codemirror_mode": {
    "name": "ipython",
    "version": 3
   },
   "file_extension": ".py",
   "mimetype": "text/x-python",
   "name": "python",
   "nbconvert_exporter": "python",
   "pygments_lexer": "ipython3",
   "version": "3.5.4"
  }
 },
 "nbformat": 4,
 "nbformat_minor": 2
}
